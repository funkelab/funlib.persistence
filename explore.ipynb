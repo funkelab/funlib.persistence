{
 "cells": [
  {
   "cell_type": "code",
   "execution_count": 1,
   "metadata": {},
   "outputs": [],
   "source": [
    "from funlib.persistence import Array\n",
    "\n",
    "import numpy as np\n",
    "\n",
    "import zarr"
   ]
  },
  {
   "cell_type": "code",
   "execution_count": 2,
   "metadata": {},
   "outputs": [],
   "source": [
    "container = zarr.open(\"example.zarr\")\n",
    "shape = (2, 3, 3)\n",
    "\n",
    "ds = container.create_dataset(\n",
    "    \"raw\",\n",
    "    chunks=(1, 3, 3),\n",
    "    dtype=\"f4\",\n",
    "    data=np.random.randn(*shape),\n",
    "    overwrite=True,\n",
    ")"
   ]
  },
  {
   "cell_type": "code",
   "execution_count": 3,
   "metadata": {},
   "outputs": [
    {
     "name": "stdout",
     "output_type": "stream",
     "text": [
      "[[[-0.03777862  0.34548774 -0.67263967]\n",
      "  [ 0.3058082   0.29156172 -0.9545453 ]\n",
      "  [ 0.70072883 -1.5905756   0.06846493]]\n",
      "\n",
      " [[ 0.41885415  0.04308635 -0.457416  ]\n",
      "  [-1.1773857  -0.15212785  1.2121304 ]\n",
      "  [ 1.3966681  -0.16751394 -2.1650443 ]]]\n"
     ]
    }
   ],
   "source": [
    "array = Array(ds, (0, 0), (1, 1))\n",
    "print(array[array.roi])"
   ]
  },
  {
   "cell_type": "code",
   "execution_count": 5,
   "metadata": {},
   "outputs": [
    {
     "name": "stdout",
     "output_type": "stream",
     "text": [
      "[[ 0.41885415  0.04308635 -0.457416  ]]\n"
     ]
    }
   ],
   "source": [
    "array_sliced = Array(ds, (0, 0), (1, 1), adapter=(slice(1,2), 0, slice(None)))\n",
    "print(array_sliced[array_sliced.roi])"
   ]
  },
  {
   "cell_type": "code",
   "execution_count": 6,
   "metadata": {},
   "outputs": [
    {
     "name": "stdout",
     "output_type": "stream",
     "text": [
      "[[10.418854 10.043086  9.542584]]\n"
     ]
    }
   ],
   "source": [
    "array_sliced[array_sliced.roi] = array_sliced[array_sliced.roi] + 10\n",
    "print(array_sliced[array_sliced.roi])"
   ]
  },
  {
   "cell_type": "code",
   "execution_count": 7,
   "metadata": {},
   "outputs": [
    {
     "name": "stdout",
     "output_type": "stream",
     "text": [
      "[10.418854 10.043086]\n",
      "['d1']\n"
     ]
    }
   ],
   "source": [
    "array_sliced.adapt(np.s_[0])\n",
    "array_sliced.adapt(np.s_[:2])\n",
    "print(array_sliced[array_sliced.roi])\n",
    "print(array_sliced.axis_names)"
   ]
  },
  {
   "cell_type": "code",
   "execution_count": 8,
   "metadata": {},
   "outputs": [
    {
     "name": "stdout",
     "output_type": "stream",
     "text": [
      "bool\n",
      "[[[False False False]\n",
      "  [False False False]\n",
      "  [False False False]]\n",
      "\n",
      " [[ True  True  True]\n",
      "  [False False False]\n",
      "  [False False False]]]\n"
     ]
    }
   ],
   "source": [
    "thresholded = Array(ds, (0, 0), (1, 1), adapter=lambda x: x > 5)\n",
    "print(thresholded.dtype)\n",
    "print(thresholded[thresholded.roi])"
   ]
  },
  {
   "cell_type": "code",
   "execution_count": 9,
   "metadata": {},
   "outputs": [
    {
     "ename": "RuntimeError",
     "evalue": "This array is not writeable since you have applied a custom callable adapter that may or may not be invertable.",
     "output_type": "error",
     "traceback": [
      "\u001b[0;31m---------------------------------------------------------------------------\u001b[0m",
      "\u001b[0;31mRuntimeError\u001b[0m                              Traceback (most recent call last)",
      "Cell \u001b[0;32mIn[9], line 1\u001b[0m\n\u001b[0;32m----> 1\u001b[0m \u001b[43mthresholded\u001b[49m\u001b[43m[\u001b[49m\u001b[43mthresholded\u001b[49m\u001b[38;5;241;43m.\u001b[39;49m\u001b[43mroi\u001b[49m\u001b[43m]\u001b[49m \u001b[38;5;241m=\u001b[39m thresholded[thresholded\u001b[38;5;241m.\u001b[39mroi] \u001b[38;5;241m+\u001b[39m \u001b[38;5;241m10\u001b[39m\n",
      "File \u001b[0;32m~/Work/Packages/funlib.persistence/funlib/persistence/arrays/array.py:314\u001b[0m, in \u001b[0;36mArray.__setitem__\u001b[0;34m(self, key, value)\u001b[0m\n\u001b[1;32m    311\u001b[0m         da\u001b[38;5;241m.\u001b[39mstore(\u001b[38;5;28mself\u001b[39m\u001b[38;5;241m.\u001b[39mdata[key], \u001b[38;5;28mself\u001b[39m\u001b[38;5;241m.\u001b[39m_source_data, regions\u001b[38;5;241m=\u001b[39mregion_slices)\n\u001b[1;32m    313\u001b[0m \u001b[38;5;28;01melse\u001b[39;00m:\n\u001b[0;32m--> 314\u001b[0m     \u001b[38;5;28;01mraise\u001b[39;00m \u001b[38;5;167;01mRuntimeError\u001b[39;00m(\n\u001b[1;32m    315\u001b[0m         \u001b[38;5;124m\"\u001b[39m\u001b[38;5;124mThis array is not writeable since you have applied a custom callable \u001b[39m\u001b[38;5;124m\"\u001b[39m\n\u001b[1;32m    316\u001b[0m         \u001b[38;5;124m\"\u001b[39m\u001b[38;5;124madapter that may or may not be invertable.\u001b[39m\u001b[38;5;124m\"\u001b[39m\n\u001b[1;32m    317\u001b[0m     )\n",
      "\u001b[0;31mRuntimeError\u001b[0m: This array is not writeable since you have applied a custom callable adapter that may or may not be invertable."
     ]
    }
   ],
   "source": [
    "\n",
    "thresholded[thresholded.roi] = thresholded[thresholded.roi] + 10"
   ]
  },
  {
   "cell_type": "code",
   "execution_count": null,
   "metadata": {},
   "outputs": [],
   "source": []
  }
 ],
 "metadata": {
  "kernelspec": {
   "display_name": "funlib.persistence",
   "language": "python",
   "name": "python3"
  },
  "language_info": {
   "codemirror_mode": {
    "name": "ipython",
    "version": 3
   },
   "file_extension": ".py",
   "mimetype": "text/x-python",
   "name": "python",
   "nbconvert_exporter": "python",
   "pygments_lexer": "ipython3",
   "version": "3.11.8"
  }
 },
 "nbformat": 4,
 "nbformat_minor": 2
}
